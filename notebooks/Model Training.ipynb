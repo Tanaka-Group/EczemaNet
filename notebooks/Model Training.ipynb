{
 "cells": [
  {
   "cell_type": "markdown",
   "metadata": {},
   "source": [
    "# Model Training: EczemaNet_VGG16 Full-suite"
   ]
  },
  {
   "cell_type": "code",
   "execution_count": 1,
   "metadata": {},
   "outputs": [
    {
     "name": "stderr",
     "output_type": "stream",
     "text": [
      "Using TensorFlow backend.\n"
     ]
    },
    {
     "name": "stdout",
     "output_type": "stream",
     "text": [
      "[INFO] # of GPUs (Keras): 0\n"
     ]
    }
   ],
   "source": [
    "import sys\n",
    "sys.path.append(\"..\")\n",
    "sys.path.append(\"../lib\")\n",
    "\n",
    "import os\n",
    "import pandas as pd\n",
    "import numpy as np\n",
    "import pickle\n",
    "from tqdm import tqdm\n",
    "import itertools\n",
    "from datetime import datetime\n",
    "\n",
    "import matplotlib.pyplot as plt\n",
    "import scikitplot as skplt\n",
    "import scipy\n",
    "from scipy import ndimage\n",
    "\n",
    "from sklearn.metrics import accuracy_score, f1_score, log_loss\n",
    "from sklearn.calibration import calibration_curve\n",
    "from sklearn.metrics import (brier_score_loss, precision_score, recall_score)\n",
    "from sklearn.preprocessing import LabelBinarizer\n",
    "from sklearn.model_selection import train_test_split\n",
    "from sklearn.metrics import confusion_matrix\n",
    "from sklearn.utils.multiclass import unique_labels\n",
    "from sklearn.metrics import mean_squared_error, mean_absolute_error, r2_score\n",
    "from sklearn.model_selection import KFold\n",
    "from sklearn.utils import class_weight\n",
    "from math import sqrt\n",
    "\n",
    "import keras\n",
    "from keras.models import model_from_json\n",
    "from keras.preprocessing import image\n",
    "from keras.utils import plot_model\n",
    "from keras.callbacks import EarlyStopping, TensorBoard\n",
    "from keras import optimizers\n",
    "\n",
    "# Confirm Keras sees the GPU\n",
    "from keras import backend as K\n",
    "assert len(K.tensorflow_backend._get_available_gpus()) > 0\n",
    "\n",
    "from EczemaNet_helper import *"
   ]
  },
  {
   "cell_type": "markdown",
   "metadata": {},
   "source": [
    "## Load Data"
   ]
  },
  {
   "cell_type": "code",
   "execution_count": 2,
   "metadata": {},
   "outputs": [],
   "source": [
    "ECZEMANET_MODEL=\"eczemanet_models.EczemaNet_VGG16\"\n",
    "PATH_TO_DATASET = \"../data\"\n",
    "OUTPUT_PATH = \"../output/EczemaNet_VGG16/\"\n",
    "BRANCHES_LIST = ['sassad_cra','sassad_dry','tiss_ery','tiss_exc','sassad_exu','sassad_lic','tiss_oed']"
   ]
  },
  {
   "cell_type": "code",
   "execution_count": 3,
   "metadata": {},
   "outputs": [
    {
     "name": "stdout",
     "output_type": "stream",
     "text": [
      "Total number of unique cases: 3\n"
     ]
    }
   ],
   "source": [
    "# Load data:\n",
    "meta_data = pd.read_csv(os.path.join(PATH_TO_DATASET,\"meta_data.csv\"))\n",
    "# Get cross validation IDs:\n",
    "cvid_df = pd.read_csv(os.path.join(PATH_TO_DATASET,\"patient_cvid.csv\"))\n",
    "print(\"Total number of unique cases: \" + str(len(cvid_df)))"
   ]
  },
  {
   "cell_type": "markdown",
   "metadata": {},
   "source": [
    "## Training"
   ]
  },
  {
   "cell_type": "code",
   "execution_count": null,
   "metadata": {},
   "outputs": [],
   "source": [
    "stat_df = pd.DataFrame()\n",
    "Y_FINAL_TURE = pd.DataFrame()\n",
    "Y_FINAL_PRED = pd.DataFrame()\n",
    "Y_FINAL_PROBA = pd.DataFrame()\n",
    "\n",
    "for run in range(0,5):\n",
    "    \n",
    "    # ------------------------------------------------\n",
    "    # Spliting indexes:\n",
    "    # ------------------------------------------------\n",
    "    \n",
    "    train_refnos = cvid_df[cvid_df['cv_id'] != run]['refno']\n",
    "    test_refnos = cvid_df[cvid_df['cv_id'] == run]['refno']\n",
    "    \n",
    "    meta_train = pd.DataFrame()\n",
    "    meta_test = pd.DataFrame()\n",
    "    \n",
    "    for refno in train_refnos.values:\n",
    "        meta_train = meta_train.append(meta_data[meta_data['refno'] == refno])\n",
    "    for refno in test_refnos.values:\n",
    "        meta_test = meta_test.append(meta_data[meta_data['refno'] == refno])\n",
    "\n",
    "    # ------------------------------------------------\n",
    "    # Preparing inputs/labels to the right format:\n",
    "    # ------------------------------------------------\n",
    "    print(\"Preparing inputs/labels...\")\n",
    "    x_train = []\n",
    "    x_test = []\n",
    "    y_train = {}\n",
    "    y_test = {}\n",
    "    classWeights = {}\n",
    "    # Training set:\n",
    "    for idx in meta_train.index:\n",
    "        x_train.append(x_data[idx])\n",
    "    for branch in BRANCHES_LIST:\n",
    "        y_train[branch+\"_output\"] = np.array(label_ordinariser(meta_train[branch]))\n",
    "    x_train = np.array(x_train)\n",
    "    x_train = load_images()\n",
    "    meta_train = meta_train.reset_index()\n",
    "    # Test set:\n",
    "    for idx in meta_test.index:\n",
    "        x_test.append(x_data[idx])\n",
    "    for branch in BRANCHES_LIST:\n",
    "        y_test[branch+\"_output\"] = np.array(label_ordinariser(meta_test[branch]))\n",
    "    x_test = np.array(x_test)\n",
    "    meta_test = meta_test.reset_index()\n",
    "    # Class weights (Balancing classes):\n",
    "    for branch in BRANCHES_LIST:\n",
    "        for idx in range(3):\n",
    "            col = [row[idx] for row in y_train[branch+\"_output\"]]\n",
    "            classWeights[branch+\"_\"+str(idx)+\"_output\"] = weight_ratio(col)\n",
    "    print(\"Training/Test inputs & labels prepared.\")\n",
    "\n",
    "    # ------------------------------------------------\n",
    "    # Model Training:\n",
    "    # ------------------------------------------------\n",
    "    module_name=ECZEMANET_MODEL\n",
    "    today_str = datetime.today().strftime('%Y-%m-%d')\n",
    "    tensorboard_log_dir =  os.path.join(OUTPUT_PATH,\"tensorboard_log/\"+ str(today_str) + \"/run_\" + str(run))\n",
    "    model_fn = os.path.join(OUTPUT_PATH, str(today_str) + \"_run-\" + str(run) + \"_model_weights.h5\")\n",
    "    model_arch_fn = os.path.join(OUTPUT_PATH, str(today_str) + \"_run-\" + str(run) + \"_model_architecture.json\")\n",
    "    model_statsreport_fn = os.path.join(OUTPUT_PATH,\"model_stats_report.txt\")\n",
    "    stat_df_fn = os.path.join(OUTPUT_PATH,\"model_stats.pkl\")\n",
    "    y_true_final_fn = os.path.join(OUTPUT_PATH,\"y_true.csv\")\n",
    "    y_pred_final_fn = os.path.join(OUTPUT_PATH,\"y_pred.csv\")\n",
    "    y_proba_final_fn = os.path.join(OUTPUT_PATH,\"y_proba.csv\")\n",
    "\n",
    "    eps = 50 # <= Maximum, Early stopping\n",
    "    print(\"Model training begins, run \" + str(run) + \" with \" + str(eps) + \" total epoches...\")\n",
    "    print(\"Tensorboard log-dir: \" + tensorboard_log_dir)\n",
    "    (H, model) = train_model(\n",
    "        eczemanetModule=module_name,\n",
    "        x_data = (x_train, x_test),\n",
    "        y_data = (y_train, y_test),\n",
    "        classWeights = classWeights,\n",
    "        branchlist = BRANCHES_LIST,\n",
    "        verbose = True,\n",
    "        batchsize = 32,\n",
    "        catagories = 3,\n",
    "        itr = eps,\n",
    "        earlystopping = True,\n",
    "        withGenerator = False,\n",
    "        lossType = \"binary_crossentropy\",\n",
    "        finalAct = \"sigmoid\",\n",
    "        tensor_logpath=tensorboard_log_dir)\n",
    "\n",
    "    # ------------------------------------------------\n",
    "    # Export trained models:\n",
    "    # ------------------------------------------------\n",
    "    print(\"Model trained. Saving model...\")\n",
    "    model.save_weights(model_fn)\n",
    "    with open(model_arch_fn, 'w') as f:\n",
    "        f.write(model.to_json())\n",
    "\n",
    "    # ------------------------------------------------\n",
    "    # Model Evaluation:\n",
    "    # ------------------------------------------------\n",
    "    # 1. Make predictions:\n",
    "    Y_true, Y_pred, Y_proba = predict(x_data=x_test, meta_data=meta_test, model=model, branchlist = BRANCHES_LIST)\n",
    "    \n",
    "    # 2. Evaluate results:\n",
    "    stat = calculate_statistics(Y_true, Y_pred, Y_proba)\n",
    "    stat[\"run\"] = run\n",
    "    stat_df = stat_df.append(stat, ignore_index=True)\n",
    "    \n",
    "    # 3. Saving all labels & outputs:\n",
    "    # + Export statistics as pickle file:\n",
    "    Y_FINAL_TURE = Y_FINAL_TURE.append(Y_true)\n",
    "    Y_FINAL_PRED = Y_FINAL_PRED.append(Y_pred)\n",
    "    Y_FINAL_PROBA = Y_FINAL_PROBA.append(Y_proba)\n",
    "    \n",
    "    print(\"[INFO] Storing all statistics...\")\n",
    "    stat_df.to_pickle(stat_df_fn)\n",
    "    Y_FINAL_TURE.to_csv(y_true_final_fn, index=False)\n",
    "    Y_FINAL_PRED.to_csv(y_pred_final_fn, index=False)\n",
    "    Y_FINAL_PROBA.to_csv(y_proba_final_fn, index=False)\n",
    "    \n",
    "\n",
    "    # End of run (cross-validation), adding counter:\n",
    "    print(\"----------------------------------------------\")\n",
    "    run += 1\n",
    "\n",
    "print(\"===========================================\")\n",
    "plot_model(model, to_file=os.path.join(OUTPUT_PATH,\"model.png\"))"
   ]
  },
  {
   "cell_type": "code",
   "execution_count": null,
   "metadata": {},
   "outputs": [],
   "source": []
  }
 ],
 "metadata": {
  "kernelspec": {
   "display_name": "Python [conda env:EczemaNet]",
   "language": "python",
   "name": "conda-env-EczemaNet-py"
  },
  "language_info": {
   "codemirror_mode": {
    "name": "ipython",
    "version": 3
   },
   "file_extension": ".py",
   "mimetype": "text/x-python",
   "name": "python",
   "nbconvert_exporter": "python",
   "pygments_lexer": "ipython3",
   "version": "3.6.8"
  }
 },
 "nbformat": 4,
 "nbformat_minor": 4
}
